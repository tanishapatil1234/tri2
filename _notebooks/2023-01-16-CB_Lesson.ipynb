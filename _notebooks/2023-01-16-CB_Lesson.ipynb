{
 "cells": [
  {
   "cell_type": "markdown",
   "metadata": {},
   "source": [
    "---\n",
    "comments: true\n",
    "layout: post\n",
    "title: College Board Question 18 Lesson \n",
    "description: Understanding the fundamental aspects of integer operations and order of operations\n",
    "courses: { compsci: {week: 1} }\n",
    "type: hacks\n",
    "---"
   ]
  },
  {
   "cell_type": "markdown",
   "metadata": {},
   "source": [
    "**My Reflection**\n",
    "\n",
    "Q18 Print statement with mathematical operators \n",
    "![Q18](https://github.com/lightkurve/lightkurve/assets/111611921/fa2cc1b5-8e21-4321-936b-85cc30e2c798)\n",
    "\n",
    "I was surprised I got this question wrong, but again it was because I was rushing. The first operation that is executed is 404/10. This returns 40 NOT 40.4 since they are both integers going through integer division. Then the value of 40 will be multiplied by 10, resulting in 400. 400 + 1 = 401 which is printed as the final answer. \n",
    "\n",
    "There were just a lot of things at play that were tricky about this especially that the 404/10 != 40.4. Multiplication and division have the same priority so the order of operations was not much of a struggle for me. \n"
   ]
  },
  {
   "cell_type": "markdown",
   "metadata": {},
   "source": [
    "1. Numerical Data Types:\n",
    "In Java, numerical data types represent numbers. The two main categories are integers and floating-point numbers.\n",
    "\n",
    "- Integers: Whole numbers without decimal points. Examples include int and long.\n",
    "\n",
    "- Floating-point: Numbers with decimal points. Examples include float and double.\n",
    "\n",
    "2. Mathematical Operations:\n",
    "Java supports a variety of mathematical operations that you can perform on numerical data types."
   ]
  },
  {
   "cell_type": "markdown",
   "metadata": {},
   "source": [
    "Addition (+): Combines two numbers."
   ]
  },
  {
   "cell_type": "code",
   "execution_count": null,
   "metadata": {
    "vscode": {
     "languageId": "java"
    }
   },
   "outputs": [],
   "source": [
    "int result = 5 + 3; // Result will be 8"
   ]
  },
  {
   "cell_type": "markdown",
   "metadata": {},
   "source": [
    "Subtraction (-): Finds the difference between two numbers.\n",
    "\n",
    "\n"
   ]
  },
  {
   "cell_type": "code",
   "execution_count": null,
   "metadata": {
    "vscode": {
     "languageId": "java"
    }
   },
   "outputs": [],
   "source": [
    "int result = 7 - 4; // Result will be 3"
   ]
  },
  {
   "cell_type": "markdown",
   "metadata": {},
   "source": [
    "Multiplication ():* Multiplies two numbers."
   ]
  },
  {
   "cell_type": "code",
   "execution_count": null,
   "metadata": {
    "vscode": {
     "languageId": "java"
    }
   },
   "outputs": [],
   "source": [
    "int result = 6 * 2; // Result will be 12"
   ]
  },
  {
   "cell_type": "markdown",
   "metadata": {},
   "source": [
    "Division (/): Divides one number by another."
   ]
  },
  {
   "cell_type": "code",
   "execution_count": null,
   "metadata": {
    "vscode": {
     "languageId": "java"
    }
   },
   "outputs": [],
   "source": [
    "double result = 10.0 / 3.0; // Result will be 3.3333..."
   ]
  },
  {
   "cell_type": "markdown",
   "metadata": {},
   "source": [
    "Modulus (%): Returns the remainder after division."
   ]
  },
  {
   "cell_type": "code",
   "execution_count": null,
   "metadata": {
    "vscode": {
     "languageId": "java"
    }
   },
   "outputs": [],
   "source": [
    "int result = 15 % 4; // Result will be 3"
   ]
  },
  {
   "cell_type": "markdown",
   "metadata": {},
   "source": [
    "**How do number types make the outcome of series of operations differ?**"
   ]
  },
  {
   "cell_type": "markdown",
   "metadata": {},
   "source": [
    "Explain the difference in the output of the two operations results below : "
   ]
  },
  {
   "cell_type": "code",
   "execution_count": 5,
   "metadata": {
    "vscode": {
     "languageId": "java"
    }
   },
   "outputs": [],
   "source": [
    "int resultInt = (403 / 9 * 10 + 1);\n",
    "double resultDouble = (403.0 / 9 * 10 + 1);\n",
    "\n",
    "// System.out.println(resultInt);\n",
    "// System.out.println(resultDouble);"
   ]
  },
  {
   "cell_type": "markdown",
   "metadata": {},
   "source": [
    "Try removing the comments and running it... Notice how these results differ despite having the same operations and numbers..."
   ]
  },
  {
   "cell_type": "markdown",
   "metadata": {},
   "source": [
    "1. Using Integers (int):"
   ]
  },
  {
   "cell_type": "code",
   "execution_count": null,
   "metadata": {
    "vscode": {
     "languageId": "java"
    }
   },
   "outputs": [],
   "source": [
    "int resultInt = (403 / 9 * 10 + 1);"
   ]
  },
  {
   "cell_type": "markdown",
   "metadata": {},
   "source": [
    "- Division (403 / 9): Integer division results in 44 (since it discards the decimal part).\n",
    "- Multiplication (44 * 10): The result is 440.\n",
    "- Addition (440 + 1): The final result is 441."
   ]
  },
  {
   "cell_type": "markdown",
   "metadata": {},
   "source": [
    "2. Using Doubles (double):"
   ]
  },
  {
   "cell_type": "code",
   "execution_count": null,
   "metadata": {
    "vscode": {
     "languageId": "java"
    }
   },
   "outputs": [],
   "source": [
    "double resultDouble = (403.0 / 9 * 10 + 1);"
   ]
  },
  {
   "cell_type": "markdown",
   "metadata": {},
   "source": [
    "- Division (403.0 / 9): Floating-point division results in approximately 44.7778.\n",
    "- Multiplication (44.7778 * 10): The result is approximately 447.778.\n",
    "- Addition (447.778 + 1): The final result is approximately 448.778.\n"
   ]
  },
  {
   "cell_type": "markdown",
   "metadata": {},
   "source": [
    "Summary:\n",
    "\n",
    "1. Integers (int):\n",
    "\n",
    "- Experience truncation during division (decimal part discarded).\n",
    "- May result in rounding down or loss of precision.\n",
    "- Final result is exact within the range of integers.\n",
    "\n",
    "2. Doubles (double):\n",
    "\n",
    "- Preserve decimal precision during division.\n",
    "- More accurate results in floating-point operations.\n",
    "- Final result may have a decimal part, providing a more precise answer."
   ]
  },
  {
   "cell_type": "markdown",
   "metadata": {},
   "source": [
    "Key Takeaway:\n",
    "\n",
    "1. Integer Operations:\n",
    "\n",
    "- Rounding or truncation occurs during division.\n",
    "- Exact within the range of integers but may lead to loss of precision.\n",
    "\n",
    "2. Floating-Point Operations:\n",
    "\n",
    "- Maintain decimal precision during operations.\n",
    "- Provide more accurate results but might introduce rounding errors.\n",
    "\n",
    "Understanding how each type of number behaves during operations is important. Integers may be exact within their range but could lose precision, while doubles preserve decimal precision, offering more accurate results despite the potential for rounding errors. Choosing the appropriate type depends on the nature of the calculations and the desired level of precision."
   ]
  }
 ],
 "metadata": {
  "kernelspec": {
   "display_name": "Java",
   "language": "java",
   "name": "java"
  },
  "language_info": {
   "codemirror_mode": "java",
   "file_extension": ".jshell",
   "mimetype": "text/x-java-source",
   "name": "Java",
   "pygments_lexer": "java",
   "version": "20.0.2+9-78"
  }
 },
 "nbformat": 4,
 "nbformat_minor": 2
}
