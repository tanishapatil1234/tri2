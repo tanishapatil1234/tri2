{
 "cells": [
  {
   "cell_type": "markdown",
   "metadata": {},
   "source": [
    "title: Gaming in Java\n",
    "author: david\n",
    "tags: [Java, Gaming]\n",
    "type: tangibles\n",
    "week: 0\n",
    "description: Gaming in Java Full Guide\n",
    "toc: true\n",
    "comments: true\n",
    "date: 2023-08-18 12:00:00 +0000"
   ]
  },
  {
   "cell_type": "markdown",
   "metadata": {},
   "source": [
    "## Setting Up Game Panel and Game Window Class\n",
    "### Game Panel Class\n",
    "The GamePanel class serves as the central component for displaying the game environment. GamePanel extends JPanel and implements Runnable, allowing it to run in a separate thread for continuous updates and rendering. "
   ]
  },
  {
   "cell_type": "markdown",
   "metadata": {},
   "source": [
    "### Implemntation of Runnable \n",
    "Runnable is an interface that is part of the 'java.lang' package. It is used for creating threads for execution. It defines a method 'run()' which contains code for constituting new threads. GamePanel implements 'Runnable' so it can be executed by a thread. \n"
   ]
  },
  {
   "cell_type": "code",
   "execution_count": null,
   "metadata": {
    "vscode": {
     "languageId": "java"
    }
   },
   "outputs": [],
   "source": [
    "public class GamePanel extends JPanel implements Runnable {\n",
    "}"
   ]
  },
  {
   "cell_type": "code",
   "execution_count": null,
   "metadata": {
    "vscode": {
     "languageId": "java"
    }
   },
   "outputs": [],
   "source": [
    "public void startGameThread() {\n",
    "    // creates new Java Thread associated with the current instance of GamePanel\n",
    "    gameThread = new Thread(this); \n",
    "\n",
    "    // starts thread's execution. runs 'run' method in a new thread\n",
    "    gameThread.start();\n",
    "}"
   ]
  },
  {
   "cell_type": "markdown",
   "metadata": {},
   "source": [
    "Purpose of startGameThread is to initiate a new thread specifically for running the game loop in GamePanel class. This includes methods that will be described later, resposible for periodically updating and repainting the game components to keep the game animated and responsive. "
   ]
  },
  {
   "cell_type": "markdown",
   "metadata": {},
   "source": [
    "### Class Properties\n",
    "Screen Settings: Defines constants for the original tile size, scaling factor, and calculates the tileSize, maxScreenCol, and maxScreenRow based on these values. Additionally, specifies the screen width and height.\n",
    "\n",
    "KeyHandler: An instance of the KeyHandler class, responsible for handling keyboard input.\n",
    "\n",
    "Thread and Player: Initializes a game thread (gameThread) and a player (player) object.\n",
    "\n",
    "Player Default Position: Defines initial coordinates and speed for the player.\n",
    "\n",
    "NPC: Currently, the NPC object is instantiated within the constructor with specific coordinates and a speech message. It is later added as a mouse listener.\n",
    "\n",
    "Frames Per Second (FPS): Defines the frames per second for the game.\n",
    "\n",
    "Background Image: Loads and sets the background image for the game panel.\n",
    "\n",
    "Constructor\n",
    "Initialization: Sets up the dimensions of the game panel, initializes the player, NPC, and background image.\n",
    "\n",
    "Event Listeners: Adds a mouse listener for the NPC to handle mouse clicks.\n",
    "\n",
    "startGameThread Method\n",
    "Thread Start: Initiates the game thread by starting the run method.\n",
    "run Method\n",
    "Game Loop: Runs the game loop, continuously updating and rendering the game environment.\n",
    "\n",
    "Update: Calls the update method to update character positions.\n",
    "\n",
    "Repaint: Calls the repaint method to redraw the screen with the updated information.\n",
    "\n",
    "Thread Sleep: Manages the thread's sleep time to achieve the specified frames per second.\n",
    "\n",
    "update Method\n",
    "Player Position Updating: Calls the update method of the player to handle position updates.\n",
    "paintComponent Method\n",
    "Background Drawing: Draws the background image on the game panel.\n",
    "\n",
    "Player Drawing: Draws the player on top of the background.\n",
    "\n",
    "Graphics Cleanup: Disposes of the graphics context after drawing.\n",
    "\n",
    "Conclusion\n",
    "The GamePanel class acts as the main canvas for the game, handling user input, updating game elements, and rendering the graphics. It encapsulates the essential functionality needed for creating a game environment and serves as a crucial component in the game architecture.\n"
   ]
  },
  {
   "cell_type": "markdown",
   "metadata": {},
   "source": [
    "## Key Handler"
   ]
  },
  {
   "cell_type": "markdown",
   "metadata": {},
   "source": [
    "## Entity and Child Classes\n"
   ]
  }
 ],
 "metadata": {
  "language_info": {
   "name": "python"
  }
 },
 "nbformat": 4,
 "nbformat_minor": 2
}
