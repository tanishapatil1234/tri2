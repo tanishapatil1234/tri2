{
 "cells": [
  {
   "cell_type": "markdown",
   "metadata": {},
   "source": [
    "---\n",
    "comments: true\n",
    "layout: post\n",
    "title: Gaming in Java\n",
    "description: Explaining game application in Java with focus on OOP\n",
    "courses: { compsci: {week: 5} }\n",
    "type: hacks\n",
    "unit: 2\n",
    "---"
   ]
  },
  {
   "cell_type": "markdown",
   "metadata": {},
   "source": [
    "# Gaming in Java\n",
    "Explaining game application in Java with focus on OOP"
   ]
  },
  {
   "cell_type": "markdown",
   "metadata": {},
   "source": [
    "## Setting Up Game Panel and Game Window Class\n",
    "### Game Panel Class\n",
    "The GamePanel class serves as the central component for displaying the game environment. GamePanel extends JPanel and implements Runnable, allowing it to run in a separate thread for continuous updates and rendering. "
   ]
  },
  {
   "cell_type": "markdown",
   "metadata": {},
   "source": [
    "### Implementation of Runnable \n",
    "Runnable is an interface that is part of the 'java.lang' package. It is used for creating threads for execution. It defines a method 'run()' which contains code for constituting new threads. GamePanel implements 'Runnable' so it can be executed by a thread. \n"
   ]
  },
  {
   "cell_type": "code",
   "execution_count": null,
   "metadata": {
    "vscode": {
     "languageId": "java"
    }
   },
   "outputs": [],
   "source": [
    "public class GamePanel extends JPanel implements Runnable {\n",
    "}"
   ]
  },
  {
   "cell_type": "code",
   "execution_count": null,
   "metadata": {
    "vscode": {
     "languageId": "java"
    }
   },
   "outputs": [],
   "source": [
    "public void startGameThread() {\n",
    "    // creates new Java Thread associated with the current instance of GamePanel\n",
    "    gameThread = new Thread(this); \n",
    "\n",
    "    // starts thread's execution. runs 'run' method in a new thread\n",
    "    gameThread.start();\n",
    "}"
   ]
  },
  {
   "cell_type": "markdown",
   "metadata": {},
   "source": [
    "Purpose of startGameThread is to initiate a new thread specifically for running the game loop in GamePanel class. This includes methods that will be described later, resposible for periodically updating and repainting the game components to keep the game animated and responsive. "
   ]
  },
  {
   "cell_type": "markdown",
   "metadata": {},
   "source": [
    "### Class Properties\n",
    "\n",
    "- originalTileSize: The original size of a tile.\n",
    "- scale: The scaling factor for the tiles.\n",
    "- tileSize: The size of each tile after scaling.\n",
    "- maxScreenCol: The maximum number of columns on the screen.\n",
    "- maxScreenRow: The maximum number of rows on the screen.\n",
    "- screenWidth: The total width of the screen.\n",
    "- screenHeight: The total height of the screen.\n",
    "- keyH: An instance of KeyHandler for handling user input.\n",
    "gameThread: The thread for running the game loop.\n",
    "player: An instance of the Player class representing the player - character.\n",
    "- playerX: The default X position of the player.\n",
    "- playerY: The default Y position of the player.\n",
    "- playerSpeed: The speed of the player character.\n",
    "- FPS: Frames per second for the game loop.\n",
    "- backgroundImage: The background image for the game panel."
   ]
  },
  {
   "cell_type": "markdown",
   "metadata": {},
   "source": [
    "## Key Handler\n",
    "The KeyHandler class is responsible for handling keyboard input events. It implements the KeyListener interface to listen for key events such as key presses and releases.\n"
   ]
  },
  {
   "cell_type": "code",
   "execution_count": null,
   "metadata": {
    "vscode": {
     "languageId": "java"
    }
   },
   "outputs": [],
   "source": [
    "public class KeyHandler implements KeyListener{\n",
    "\n",
    "    public boolean upPressed, downPressed, leftPressed, rightPressed; \n",
    "    @Override\n",
    "    public void keyPressed(KeyEvent e) {\n",
    "        /// WASD Controls \n",
    "        int code = e.getKeyCode();\n",
    "        if(code == KeyEvent.VK_W) {\n",
    "            upPressed = true; \n",
    "        }\n",
    "        if(code == KeyEvent.VK_A) {\n",
    "            leftPressed = true; \n",
    "        }\n",
    "        if(code == KeyEvent.VK_S) {\n",
    "            downPressed = true ;\n",
    "        }\n",
    "        if(code == KeyEvent.VK_D) {\n",
    "            rightPressed = true; \n",
    "        }\n",
    "    }\n",
    "\n",
    "    @Override\n",
    "    public void keyReleased(KeyEvent e) {\n",
    "        int code = e.getKeyCode();\n",
    "        if(code == KeyEvent.VK_W) {\n",
    "            upPressed = false; \n",
    "        }\n",
    "        if(code == KeyEvent.VK_A) {\n",
    "            leftPressed = false; \n",
    "        }\n",
    "        if(code == KeyEvent.VK_S) {\n",
    "            downPressed = false ;\n",
    "        }\n",
    "        if(code == KeyEvent.VK_D) {\n",
    "            rightPressed = false; \n",
    "        }\n",
    "    }\n",
    "\n",
    "    @Override\n",
    "    public void keyTyped(KeyEvent arg0) {\n",
    "        // TODO Auto-generated method stub\n",
    "    }\n",
    "    \n",
    "    \n",
    "}"
   ]
  },
  {
   "cell_type": "markdown",
   "metadata": {},
   "source": [
    "### Class Properties:\n",
    "- upPressed, downPressed, leftPressed, rightPressed: These boolean variables indicate whether the corresponding arrow keys (W, A, S, D) are currently pressed. They are used to track the state of these keys.\n",
    "\n",
    "#### Methods:\n",
    "- keyPressed(KeyEvent e): This method is called when a key is pressed. It checks the keycode of the pressed key and updates the corresponding boolean variable to true if the arrow keys (W, A, S, D) are pressed.\n",
    "\n",
    "- keyReleased(KeyEvent e): This method is called when a key is released. Similar to keyPressed(), it checks the keycode of the released key and updates the corresponding boolean variable to false if the arrow keys (W, A, S, D) are released.\n",
    "\n",
    "- keyTyped(KeyEvent arg0): This method is not implemented in this class. It's called when a key is typed, but it's not relevant for this class's purpose, so it remains empty.\n",
    "\n",
    "#### Usage:\n",
    "\n",
    "- An instance of KeyHandler is used by the panel class to respond to keyboard input, in this case controlling player movement in a game.\n",
    "- When a key is pressed or released, the KeyHandler instance updates its boolean variables accordingly.\n",
    "- Panel part of the program can then check these variables to determine which keys are currently pressed and take appropriate actions based on that information.\n",
    "\n",
    "Note:\n",
    "This implementation only handles basic keyboard input for the arrow keys (W, A, S, D). Depending on the requirements of your application, you may need to extend it to handle additional keys or more complex input logic."
   ]
  },
  {
   "cell_type": "markdown",
   "metadata": {},
   "source": [
    "## Entity and Child Classes\n",
    "The Entity class serves as a parent class for all character classes in the game. It encapsulates common properties and behaviors that are shared among different types of entities."
   ]
  },
  {
   "cell_type": "code",
   "execution_count": null,
   "metadata": {
    "vscode": {
     "languageId": "java"
    }
   },
   "outputs": [],
   "source": [
    "// Parent class for all character classes\n",
    "public class Entity {\n",
    "    public int x, y;  // position\n",
    "    public int speed;  // speed \n",
    "\n",
    "    public String direction; \n",
    "}"
   ]
  },
  {
   "cell_type": "markdown",
   "metadata": {},
   "source": [
    "\n",
    "### Class Properties:\n",
    "- x, y: These integer variables represent the position of the entity on the game map. The x coordinate indicates the horizontal position, and the y coordinate indicates the vertical position.\n",
    "\n",
    "- speed: This integer variable specifies the speed of the entity's movement. It determines how fast the entity can move across the game map.\n",
    "\n",
    "- direction: This string variable stores the direction in which the entity is currently moving or facing. It can be used to track the entity's orientation or movement direction.\n",
    "\n",
    "#### Methods:\n",
    "The Entity class doesn't contain any methods in the provided code snippet. However, subclasses of Entity will define additional methods (you will see this later) to implement specific behaviors for different types of entities, such as player characters or non-player characters.\n",
    "\n",
    "#### Usage:\n",
    "- Subclasses of Entity, such as Player or Npc, inherit the properties and behaviors defined in the Entity class.\n",
    "\n",
    "The Entity class basically just provides a foundation for implementing common functionalities shared among different types of entities.... we are now going to see it's implementation and inheritance in child classes. \n",
    "\n"
   ]
  },
  {
   "cell_type": "markdown",
   "metadata": {},
   "source": [
    "## Player Class Explanation:"
   ]
  },
  {
   "cell_type": "code",
   "execution_count": null,
   "metadata": {
    "vscode": {
     "languageId": "java"
    }
   },
   "outputs": [],
   "source": [
    "public class Player extends Entity{\n",
    "    GamePanel gp; \n",
    "    KeyHandler keyH; \n",
    "    \n",
    "    private int currentSpriteFrame = 0;\n",
    "    private Map<String, Image[]> sprites;  // Map to store sprite animations\n",
    "    private String currentDirection;  // To keep track of the current direction\n",
    "    private int movementsCount = 0;\n",
    "\n",
    "    public Player(GamePanel gp, KeyHandler keyH) {\n",
    "\n",
    "        this.gp = gp; \n",
    "        this.keyH = keyH; \n",
    "        setDefaultValues();\n",
    "        loadSprites();\n",
    "    }\n",
    "\n",
    "    //default value method \n",
    "\n",
    "    public void setDefaultValues() {\n",
    "        x = 100; \n",
    "        y = 100; \n",
    "        speed = 4; \n",
    "\n",
    "    }\n",
    "\n",
    "\n",
    "\n",
    "    public void update() {\n",
    "        if (keyH.upPressed) {\n",
    "            y -= speed;\n",
    "            currentDirection = \"up\";\n",
    "            updateSpriteFrame();\n",
    "        } else if (keyH.downPressed) {\n",
    "            y += speed;\n",
    "            currentDirection = \"down\";\n",
    "            updateSpriteFrame();\n",
    "        } else if (keyH.leftPressed) {\n",
    "            x -= speed;\n",
    "            currentDirection = \"left\";\n",
    "            updateSpriteFrame();\n",
    "        } else if (keyH.rightPressed) {\n",
    "            x += speed;\n",
    "            currentDirection = \"right\";\n",
    "            updateSpriteFrame();\n",
    "        }\n",
    "        movementsCount++;\n",
    "        if (movementsCount >= 20) {\n",
    "            movementsCount = 0;\n",
    "            currentSpriteFrame = (currentSpriteFrame + 1) % 2;  // Alternating between 0 and 1\n",
    "        }\n",
    "\n",
    "        \n",
    "    }\n",
    "\n",
    "    private void updateSpriteFrame() {\n",
    "        // Update the sprite frame based on the direction\n",
    "        Image[] directionSprites = sprites.get(currentDirection);\n",
    "        currentSpriteFrame = (currentSpriteFrame + 1) % directionSprites.length;\n",
    "    }\n",
    "\n",
    "\n",
    "    private void loadSprites() {\n",
    "        sprites = new HashMap<>();\n",
    "    \n",
    "        sprites.put(\"up\", new Image[]{\n",
    "                new ImageIcon(getClass().getResource(\"/com/nighthawk/spring_portfolio/mvc/collision/sprites/boy_up_1.png\")).getImage(),\n",
    "                new ImageIcon(getClass().getResource(\"/com/nighthawk/spring_portfolio/mvc/collision/sprites/boy_up_2.png\")).getImage()\n",
    "        });\n",
    "    \n",
    "        sprites.put(\"down\", new Image[]{\n",
    "                new ImageIcon(getClass().getResource(\"/com/nighthawk/spring_portfolio/mvc/collision/sprites/boy_down_1.png\")).getImage(),\n",
    "                new ImageIcon(getClass().getResource(\"/com/nighthawk/spring_portfolio/mvc/collision/sprites/boy_down_2.png\")).getImage()\n",
    "        });\n",
    "    \n",
    "        sprites.put(\"left\", new Image[]{\n",
    "                new ImageIcon(getClass().getResource(\"/com/nighthawk/spring_portfolio/mvc/collision/sprites/boy_left_1.png\")).getImage(),\n",
    "                new ImageIcon(getClass().getResource(\"/com/nighthawk/spring_portfolio/mvc/collision/sprites/boy_left_2.png\")).getImage()\n",
    "        });\n",
    "    \n",
    "        sprites.put(\"right\", new Image[]{\n",
    "                new ImageIcon(getClass().getResource(\"/com/nighthawk/spring_portfolio/mvc/collision/sprites/boy_right_1.png\")).getImage(),\n",
    "                new ImageIcon(getClass().getResource(\"/com/nighthawk/spring_portfolio/mvc/collision/sprites/boy_right_2.png\")).getImage()\n",
    "        });\n",
    "    }\n",
    "    \n",
    "\n",
    "\n",
    "    public void draw(Graphics2D g2) {\n",
    "\n",
    "        Image[] directionSprites = sprites.get(currentDirection);\n",
    "        Image currentSprite = directionSprites[currentSpriteFrame];\n",
    "        // Draw the appropriate sprite at the player's position\n",
    "        g2.drawImage(currentSprite, x, y, gp.tileSize, gp.tileSize, null);\n",
    "\n",
    "    }\n",
    "\n",
    "}"
   ]
  },
  {
   "cell_type": "markdown",
   "metadata": {},
   "source": [
    "### Properties:\n",
    "- gp: Represents the associated GamePanel instance.\n",
    "- keyH: Represents the associated KeyHandler instance for handling keyboard input.\n",
    "- currentSpriteFrame: Tracks the current frame of the sprite animation.\n",
    "- sprites: A map that stores sprite animations for different directions.\n",
    "- currentDirection: Tracks the current direction of the player.\n",
    "movementsCount: Tracks the number of movements for sprite animation.\n",
    "#### Constructor:\n",
    "- Initializes the Player instance with the associated GamePanel and KeyHandler instances.\n",
    "- Calls setDefaultValues() to set default values.\n",
    "- Calls loadSprites() to load sprite images.\n",
    "\n",
    "#### Methods:\n",
    "- setDefaultValues(): Sets default values for the player's position and speed.\n",
    "- update(): Updates the player's position based on keyboard input and updates the sprite frame accordingly.\n",
    "- updateSpriteFrame(): Updates the sprite frame based on the current direction.\n",
    "- loadSprites(): Loads sprite images for different directions.\n",
    "- draw(Graphics2D g2): Draws the player's sprite on the GamePanel.\n",
    "\n"
   ]
  },
  {
   "cell_type": "markdown",
   "metadata": {},
   "source": [
    "## Npc Class Explanation:"
   ]
  },
  {
   "cell_type": "code",
   "execution_count": null,
   "metadata": {
    "vscode": {
     "languageId": "java"
    }
   },
   "outputs": [],
   "source": [
    "public class Npc extends Entity implements MouseListener {\n",
    "    private Image npcImage;\n",
    "    private String speechText;\n",
    "    private Boolean displaySpeech; \n",
    "    private GamePanel gamePanel;\n",
    "    \n",
    "    public Npc(int x, int y, String speechText, GamePanel gamePanel) {\n",
    "        this.x = x;\n",
    "        this.y = y;\n",
    "        this.speechText = speechText;\n",
    "        this.displaySpeech = false;\n",
    "        this.gamePanel = gamePanel;  // Assign the GamePanel instance\n",
    "        loadNPCImage();\n",
    "        gamePanel.addMouseListener(this);  // Add MouseListener to the GamePanel\n",
    "    }\n",
    "\n",
    "    private void loadNPCImage() {\n",
    "        npcImage = new ImageIcon(getClass().getResource(\"/com/nighthawk/spring_portfolio/mvc/collision/sprites/npc1.png\")).getImage();\n",
    "        npcImage = npcImage.getScaledInstance(npcImage.getWidth(null) / 2, npcImage.getHeight(null) / 2, Image.SCALE_DEFAULT);\n",
    "    }\n",
    "\n",
    "    public void draw(Graphics2D g2) {\n",
    "        // Draw the NPC image at its position\n",
    "        g2.drawImage(npcImage, x, y, null);\n",
    "\n",
    "        if (displaySpeech) {\n",
    "            // Draw speech bubble\n",
    "            int bubbleWidth = 200;\n",
    "            int bubbleHeight = 50;\n",
    "\n",
    "            // Adjust the bubble position based on NPC position\n",
    "            int bubbleX = x + npcImage.getWidth(null) + 5;\n",
    "            int bubbleY = y - 10;\n",
    "\n",
    "            // Draw the speech bubble\n",
    "            g2.setColor(Color.WHITE);\n",
    "            g2.fillRect(bubbleX, bubbleY, bubbleWidth, bubbleHeight);\n",
    "            g2.setColor(Color.BLACK);\n",
    "            g2.drawRect(bubbleX, bubbleY, bubbleWidth, bubbleHeight);\n",
    "\n",
    "            // Draw the speech text\n",
    "            g2.setFont(new Font(\"Arial\", Font.PLAIN, 12));\n",
    "            g2.drawString(speechText, bubbleX + 10, bubbleY + 20);\n",
    "        }\n",
    "    }\n",
    "\n",
    "    @Override\n",
    "    public void mouseClicked(MouseEvent e) {\n",
    "        // Check if the click occurred on the NPC\n",
    "        Rectangle npcBounds = new Rectangle(x, y, npcImage.getWidth(null), npcImage.getHeight(null));\n",
    "        if (npcBounds.contains(e.getPoint())) {\n",
    "            // Toggle the display of speech bubble\n",
    "            displaySpeech = !displaySpeech;\n",
    "            gamePanel.repaint();  // Trigger repaint to update the display\n",
    "        }\n",
    "    }\n",
    "\n",
    "    @Override\n",
    "    public void mousePressed(MouseEvent e) {\n",
    "    }\n",
    "\n",
    "    @Override\n",
    "    public void mouseReleased(MouseEvent e) {\n",
    "    }\n",
    "\n",
    "    @Override\n",
    "    public void mouseEntered(MouseEvent e) {\n",
    "    }\n",
    "\n",
    "    @Override\n",
    "    public void mouseExited(MouseEvent e) {\n",
    "    }\n",
    "}\n"
   ]
  },
  {
   "cell_type": "markdown",
   "metadata": {},
   "source": [
    "\n",
    "#### Properties:\n",
    "- npcImage: Represents the image of the NPC.\n",
    "- speechText: Represents the text displayed in the speech bubble.\n",
    "- displaySpeech: Indicates whether the speech bubble should be displayed.\n",
    "- gamePanel: Represents the associated GamePanel instance.\n",
    "#### Constructor:\n",
    "- Initializes the NPC with its position, speech text, and the associated GamePanel.\n",
    "- Loads the NPC image.\n",
    "- Adds itself as a MouseListener to the GamePanel.\n",
    "### Methods:\n",
    "- loadNPCImage(): Loads the NPC image and scales it.\n",
    "- draw(Graphics2D g2): Draws the NPC image and speech bubble on the GamePanel.\n",
    "- mouseClicked(MouseEvent e): Toggles the display of the speech bubble when the NPC is clicked.\n",
    "#### Usage:\n",
    "- The Player class represents the player character and handles player movement based on keyboard input.\n",
    "- The Npc class represents non-player characters and displays speech bubbles when clicked.\n",
    "- Both classes interact with the GamePanel to draw themselves on the game screen and respond to user input.\n",
    "- Both classes are inherited from the Entity Class described earlier! "
   ]
  }
 ],
 "metadata": {
  "language_info": {
   "name": "python"
  }
 },
 "nbformat": 4,
 "nbformat_minor": 2
}
