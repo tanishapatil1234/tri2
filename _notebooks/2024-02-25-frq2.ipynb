{
 "cells": [
  {
   "cell_type": "markdown",
   "metadata": {},
   "source": [
    "---\n",
    "comments: true\n",
    "layout: notebook\n",
    "title: FRQ 2 - 2015\n",
    "description: FRQ answers and thought process\n",
    "type: hacks\n",
    "courses: { compsci: {week: 1} }\n",
    "authors: Tanisha Patil\n",
    "---"
   ]
  },
  {
   "cell_type": "markdown",
   "metadata": {},
   "source": [
    "Consider a guessing game in which a player tries to guess a hidden word. The hidden word contains only capital letters and has a length known to the player. A guess contains only capital letters and has the same length as the hidden word.\n",
    "\n",
    "After a guess is made, the player is given a hint that is based on a comparison between the hidden word and the guess. Each position in the hint contains a character that corresponds to the letter in the same position in the guess. The following rules determine the characters that appear in the hint."
   ]
  },
  {
   "cell_type": "markdown",
   "metadata": {},
   "source": [
    "\n",
    "![Image](https://github.com/nighthawkcoders/teacher_portfolio/assets/111611921/66ab6943-1936-4a19-9bb5-478b6be825f0)"
   ]
  },
  {
   "cell_type": "markdown",
   "metadata": {},
   "source": [
    "Write the complete HiddenWord class, including any necessary instance variables, its constructor, and the method, getHint, described above. You may assume that the length of the guess is the same as the length of the hidden word."
   ]
  },
  {
   "cell_type": "code",
   "execution_count": 1,
   "metadata": {
    "vscode": {
     "languageId": "java"
    }
   },
   "outputs": [
    {
     "ename": "CompilationException",
     "evalue": "",
     "output_type": "error",
     "traceback": [
      "\u001b[1m\u001b[30m|   \u001b[1m\u001b[30m                \u001b[0m\u001b[1m\u001b[30m\u001b[41mhint.append\u001b[0m\u001b[1m\u001b[30m(guessChar); \u001b[0m",
      "\u001b[1m\u001b[31mcannot find symbol\u001b[0m",
      "\u001b[1m\u001b[31m  symbol:   method append(char)\u001b[0m",
      "",
      "\u001b[1m\u001b[30m|   \u001b[1m\u001b[30m                \u001b[0m\u001b[1m\u001b[30m\u001b[41mhint.append\u001b[0m\u001b[1m\u001b[30m(\"+\"); \u001b[0m",
      "\u001b[1m\u001b[31mcannot find symbol\u001b[0m",
      "\u001b[1m\u001b[31m  symbol:   method append(java.lang.String)\u001b[0m",
      "",
      "\u001b[1m\u001b[30m|   \u001b[1m\u001b[30m                \u001b[0m\u001b[1m\u001b[30m\u001b[41mhint.append\u001b[0m\u001b[1m\u001b[30m(\"*\"); \u001b[0m",
      "\u001b[1m\u001b[31mcannot find symbol\u001b[0m",
      "\u001b[1m\u001b[31m  symbol:   method append(java.lang.String)\u001b[0m",
      ""
     ]
    }
   ],
   "source": [
    "public class HiddenWord {\n",
    "    private String hiddenWord;\n",
    "\n",
    "    public HiddenWord(String hiddenWord) {\n",
    "        this.hiddenWord = hiddenWord;\n",
    "    }\n",
    "\n",
    "    public String getHint(String guess) {\n",
    "        String hint = \" \";\n",
    "        for (int i = 0; i < guess.length(); i++) {\n",
    "            char guessChar = guess.charAt(i);\n",
    "            char hiddenChar = hiddenWord.charAt(i);\n",
    "            if (guessChar == hiddenChar) {\n",
    "                hint.append(guessChar); \n",
    "            } else if (hiddenWord.indexOf(guessChar) != -1) {\n",
    "                hint.append(\"+\"); \n",
    "            } else {\n",
    "                hint.append(\"*\"); \n",
    "            }\n",
    "        }\n",
    "        return hint.toString();\n",
    "    }\n",
    "}\n"
   ]
  }
 ],
 "metadata": {
  "kernelspec": {
   "display_name": "Java",
   "language": "java",
   "name": "java"
  },
  "language_info": {
   "codemirror_mode": "java",
   "file_extension": ".jshell",
   "mimetype": "text/x-java-source",
   "name": "Java",
   "pygments_lexer": "java",
   "version": "20.0.2+9-78"
  }
 },
 "nbformat": 4,
 "nbformat_minor": 2
}
