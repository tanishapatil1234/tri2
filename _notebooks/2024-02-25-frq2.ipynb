{
 "cells": [
  {
   "cell_type": "markdown",
   "metadata": {},
   "source": [
    "---\n",
    "comments: true\n",
    "layout: notebook\n",
    "title: FRQ 2 - 2015\n",
    "description: FRQ answers and thought process\n",
    "type: tangibles\n",
    "courses: { compsci: {week: 4} }\n",
    "authors: Tanisha Patil\n",
    "---"
   ]
  },
  {
   "cell_type": "markdown",
   "metadata": {},
   "source": [
    "Consider a guessing game in which a player tries to guess a hidden word. The hidden word contains only capital letters and has a length known to the player. A guess contains only capital letters and has the same length as the hidden word.\n",
    "\n",
    "After a guess is made, the player is given a hint that is based on a comparison between the hidden word and the guess. Each position in the hint contains a character that corresponds to the letter in the same position in the guess. The following rules determine the characters that appear in the hint."
   ]
  },
  {
   "cell_type": "markdown",
   "metadata": {},
   "source": [
    "\n",
    "![Image](https://github.com/nighthawkcoders/teacher_portfolio/assets/111611921/66ab6943-1936-4a19-9bb5-478b6be825f0)"
   ]
  },
  {
   "cell_type": "markdown",
   "metadata": {},
   "source": [
    "Write the complete HiddenWord class, including any necessary instance variables, its constructor, and the method, getHint, described above. You may assume that the length of the guess is the same as the length of the hidden word."
   ]
  },
  {
   "cell_type": "code",
   "execution_count": 14,
   "metadata": {
    "vscode": {
     "languageId": "java"
    }
   },
   "outputs": [],
   "source": [
    "public class HiddenWord {\n",
    "    // initializing hiddenWord String\n",
    "    private String hiddenWord;\n",
    "\n",
    "    public HiddenWord(String hiddenWord) {\n",
    "        this.hiddenWord = hiddenWord;\n",
    "    }\n",
    "\n",
    "    // method getHint \n",
    "    public String getHint(String guess) {\n",
    "        // Initialize String for hint\n",
    "        String hint = \"\"; \n",
    "        for (int i = 0; i < guess.length(); i++) {\n",
    "            if (guess.substring(i,i+1).equals(word.substring(i, i+1))) {\n",
    "                hint += guess.substring(i, i+1);\n",
    "            } else if (hiddenWord.indexOf(guess.substring(i, i+1)) != -1) {\n",
    "                hint += \"+\"; \n",
    "            } else {\n",
    "                hint += \"*\"; \n",
    "            }\n",
    "        }\n",
    "        return hint.toString(); \n",
    "    }\n",
    "}\n"
   ]
  },
  {
   "cell_type": "code",
   "execution_count": 7,
   "metadata": {
    "vscode": {
     "languageId": "java"
    }
   },
   "outputs": [
    {
     "data": {
      "text/plain": [
       "+A++"
      ]
     },
     "execution_count": 7,
     "metadata": {},
     "output_type": "execute_result"
    }
   ],
   "source": [
    "HiddenWord puzzle = new HiddenWord(\"HARPS\");\n",
    "puzzle.getHint(\"AAAA\");\n",
    "\n"
   ]
  },
  {
   "cell_type": "code",
   "execution_count": 8,
   "metadata": {
    "vscode": {
     "languageId": "java"
    }
   },
   "outputs": [
    {
     "data": {
      "text/plain": [
       "H****"
      ]
     },
     "execution_count": 8,
     "metadata": {},
     "output_type": "execute_result"
    }
   ],
   "source": [
    "HiddenWord puzzle = new HiddenWord(\"HARPS\");\n",
    "puzzle.getHint(\"HELLO\");\n"
   ]
  },
  {
   "cell_type": "code",
   "execution_count": 9,
   "metadata": {
    "vscode": {
     "languageId": "java"
    }
   },
   "outputs": [
    {
     "data": {
      "text/plain": [
       "H*++*"
      ]
     },
     "execution_count": 9,
     "metadata": {},
     "output_type": "execute_result"
    }
   ],
   "source": [
    "HiddenWord puzzle = new HiddenWord(\"HARPS\");\n",
    "puzzle.getHint(\"HEART\");\n"
   ]
  },
  {
   "cell_type": "code",
   "execution_count": 10,
   "metadata": {
    "vscode": {
     "languageId": "java"
    }
   },
   "outputs": [
    {
     "data": {
      "text/plain": [
       "HAR*S"
      ]
     },
     "execution_count": 10,
     "metadata": {},
     "output_type": "execute_result"
    }
   ],
   "source": [
    "HiddenWord puzzle = new HiddenWord(\"HARPS\");\n",
    "puzzle.getHint(\"HARMS\");\n"
   ]
  },
  {
   "cell_type": "code",
   "execution_count": 11,
   "metadata": {
    "vscode": {
     "languageId": "java"
    }
   },
   "outputs": [
    {
     "data": {
      "text/plain": [
       "HARPS"
      ]
     },
     "execution_count": 11,
     "metadata": {},
     "output_type": "execute_result"
    }
   ],
   "source": [
    "HiddenWord puzzle = new HiddenWord(\"HARPS\");\n",
    "puzzle.getHint(\"HARPS\");\n"
   ]
  }
 ],
 "metadata": {
  "kernelspec": {
   "display_name": "Java",
   "language": "java",
   "name": "java"
  },
  "language_info": {
   "codemirror_mode": "java",
   "file_extension": ".jshell",
   "mimetype": "text/x-java-source",
   "name": "Java",
   "pygments_lexer": "java",
   "version": "20.0.2+9-78"
  }
 },
 "nbformat": 4,
 "nbformat_minor": 2
}
