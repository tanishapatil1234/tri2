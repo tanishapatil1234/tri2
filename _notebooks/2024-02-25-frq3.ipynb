{
 "cells": [
  {
   "cell_type": "markdown",
   "metadata": {},
   "source": [
    "---\n",
    "comments: true\n",
    "layout: notebook\n",
    "title: FRQ 3 - 2015\n",
    "description: FRQ answers and thought process\n",
    "type: tangibles\n",
    "courses: { compsci: {week: 4} }\n",
    "authors: Tanisha Patil\n",
    "unit: 2\n",
    "---"
   ]
  },
  {
   "cell_type": "markdown",
   "metadata": {},
   "source": [
    "A two-dimensional array of integers in which most elements are zero is called a sparse array. Because most elements have a value of zero, memory can be saved by storing only the non-zero values along with their ro and column indexes. The following complete SparseArrayEntry class is used to represent non-zero elements in a sparse array. A SparseArrayEntry object cannot be modified after it has been constructed."
   ]
  },
  {
   "cell_type": "markdown",
   "metadata": {},
   "source": [
    "\n",
    "\n",
    "![Image](https://github.com/nighthawkcoders/teacher_portfolio/assets/111611921/6662dada-a7b3-4dae-a473-751da2fba523)\n",
    "\n"
   ]
  },
  {
   "cell_type": "markdown",
   "metadata": {},
   "source": [
    "The SparseArray class represents a sparse array. It contains a list of SparseArrayEntry objects, each of which represents one of the non-zero elements in the array. The entries representing the non-zero elements are stored in the list in no particular order. Each non-zero element is represented by exactly one entry in the list.\n",
    "\n",
    "![Image](https://github.com/nighthawkcoders/teacher_portfolio/assets/111611921/f5ca4576-c526-44ec-82d9-74f38f04796c)\n",
    "\n"
   ]
  },
  {
   "cell_type": "markdown",
   "metadata": {},
   "source": [
    "The following table shows an example of a two-dimensional sparse array. Empty cells in the table indicate zero values.\n",
    "\n",
    "![Image](https://github.com/nighthawkcoders/teacher_portfolio/assets/111611921/73940131-faf6-4aca-a09a-c962d90f373c)\n",
    "\n",
    "\n"
   ]
  },
  {
   "cell_type": "markdown",
   "metadata": {},
   "source": [
    "# A) \n",
    " Write the SparseArray method getValueAt. The method returns the value of the sparse array element at a given row and column in the sparse array. If the list entries contains an entry with the specified row and column, the value associated with the entry is returned. If there is no entry in entries corresponding to the specified row and column, 0 is returned.\n",
    "In the example above, the call sparse.getValueAt(3, 1) would return -9, and sparse.getValueAt(3, 3) would return 0.\n",
    "\n",
    "Complete method getValueAt below.\n",
    "![Image](https://github.com/nighthawkcoders/teacher_portfolio/assets/111611921/f60f718a-b518-4f96-9552-37ecf97e5223)\n"
   ]
  },
  {
   "cell_type": "code",
   "execution_count": null,
   "metadata": {
    "vscode": {
     "languageId": "java"
    }
   },
   "outputs": [],
   "source": [
    "public int getValueAt(int row, int col) {\n",
    "    for (SparseArray i:entries ){\n",
    "    if (i.getrow== row && i.getcol== col){\n",
    "        return i.getValue();\n",
    "    }\n",
    "    else { \n",
    "        return 0;\n",
    "    }\n",
    "}\n",
    "}"
   ]
  },
  {
   "cell_type": "markdown",
   "metadata": {},
   "source": [
    "Can not show this part running, because this requires the methods from the provided class (which are written by CB in comments, not real java. Let's assume this is correct, I will get more feedback when I peer grade)"
   ]
  },
  {
   "cell_type": "markdown",
   "metadata": {},
   "source": [
    "# B) \n",
    "Write the SparseArray method removeColumn. After removing a specified column from a sparsearray:\n",
    "\n",
    "- All entries in the list entries with column indexes matching col are removed from the list.\n",
    "\n",
    "- All entries in the list entries with column indexes greater than col are replaced by entries with column indexes that are decremented by one (moved one column to the left).\n",
    "\n",
    "- The number of columns in the sparse array is adjusted to reflect the column removed.\n"
   ]
  },
  {
   "cell_type": "markdown",
   "metadata": {},
   "source": [
    "Repeated Class information for mine, and peer grader's convenience : "
   ]
  },
  {
   "cell_type": "markdown",
   "metadata": {},
   "source": [
    "![Image](https://github.com/nighthawkcoders/teacher_portfolio/assets/111611921/7e64ee05-c993-41e4-aaa1-3cbccb18b6a7)\n"
   ]
  },
  {
   "cell_type": "code",
   "execution_count": null,
   "metadata": {
    "vscode": {
     "languageId": "java"
    }
   },
   "outputs": [],
   "source": [
    "public void removeColumn(int col){\n",
    "    int x = 0; \n",
    "    while (x < entries.size()){\n",
    "        if (x.getCol() == col){\n",
    "            entries.remove(x);\n",
    "        }\n",
    "        \n",
    "        else if (i.getCol() > col) {\n",
    "            entries.set(i, new SparseArrayEntry(i.getRow(), i.getCol() -1, i.getValue));\n",
    "            i ++; \n",
    "        }\n",
    "        else {\n",
    "            i ++; \n",
    "        }\n",
    "        numCols = numCols - 1; \n",
    "    }\n",
    "}"
   ]
  },
  {
   "cell_type": "markdown",
   "metadata": {},
   "source": [
    "I was a little confused on the second bullet, the else if . Are we replacing the new col with the contents of the one before it? Are we deleting the one before it so is the new col just replacing the old one? Or will the duplicates exist? "
   ]
  }
 ],
 "metadata": {
  "kernelspec": {
   "display_name": "Java",
   "language": "java",
   "name": "java"
  },
  "language_info": {
   "codemirror_mode": "java",
   "file_extension": ".jshell",
   "mimetype": "text/x-java-source",
   "name": "Java",
   "pygments_lexer": "java",
   "version": "20.0.2+9-78"
  }
 },
 "nbformat": 4,
 "nbformat_minor": 2
}
