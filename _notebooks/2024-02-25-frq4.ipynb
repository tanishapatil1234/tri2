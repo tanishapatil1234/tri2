{
 "cells": [
  {
   "cell_type": "markdown",
   "metadata": {},
   "source": [
    "---\n",
    "comments: true\n",
    "layout: notebook\n",
    "title: FRQ 4 - 2015\n",
    "description: FRQ answers and thought process\n",
    "type: tangibles\n",
    "courses: { compsci: {week: 4} }\n",
    "authors: Tanisha Patil\n",
    "---"
   ]
  },
  {
   "cell_type": "markdown",
   "metadata": {},
   "source": [
    "This question involves the design of an interface, writing a class that implements the interface, and writing a method that uses the interface.\n",
    "\n",
    "# A) \n",
    "A number group represents a group of integers defined in some way. It could be empty, or it could contain one or more integers.\n",
    "\n",
    "Write an interface named NumberGroup that represents a group of integers. The interface should have a \n",
    "- single contains method that determines if a given integer is in the group. For example, if group1 is of type NumberGroup, and it contains only the two numbers -5 and 3, then group1.contains(-5) would return true, and group1.contains(2) would return false.\n",
    "Write the complete NumberGroup interface. It must have exactly one method.\n",
    "\n"
   ]
  },
  {
   "cell_type": "code",
   "execution_count": null,
   "metadata": {
    "vscode": {
     "languageId": "java"
    }
   },
   "outputs": [],
   "source": [
    "public interface NumberGroup\n",
    "{\n",
    "    boolean contains(int number);\n",
    "}"
   ]
  },
  {
   "cell_type": "markdown",
   "metadata": {},
   "source": [
    "Testing this will be shown in part b, implementation of the interface. "
   ]
  },
  {
   "cell_type": "markdown",
   "metadata": {},
   "source": [
    "# B) \n",
    "A range represents a number group that contains all (and only) the integers between a minimum value and a maximum value, inclusive.\n",
    "\n",
    "- Write the Range class, which is a NumberGroup. \n",
    "- The Range class represents the group of int values that range from a given minimum value up through a given maximum value, inclusive. For example,the declaration\n",
    "\n",
    "- NumberGroup range1 = new Range(-3, 2);\n",
    "represents the group of integer values -3, -2, -1, 0, 1, 2.\n",
    "\n",
    "- Write the complete Range class. Include all necessary \n",
    "- instance variables and \n",
    "- methods as well as a constructor that takes \n",
    "- two int parameters. The first parameter represents the minimum value, and the second parameter represents the maximum value of the range. You may assume that the minimum is less than or equal to the maximum.\n",
    "\n"
   ]
  },
  {
   "cell_type": "code",
   "execution_count": null,
   "metadata": {
    "vscode": {
     "languageId": "java"
    }
   },
   "outputs": [],
   "source": [
    "public class Range implements NumberGroup{\n",
    "    private int min; \n",
    "    private int max; \n",
    "\n",
    "    public Range(int min, int max){\n",
    "        this.min = min; \n",
    "        this.max = max; \n",
    "    }\n",
    "\n",
    "    public boolean contains(int number){\n",
    "        if (num >= min && num <= max){\n",
    "            return True;\n",
    "        }\n",
    "        else{\n",
    "            return False;\n",
    "        }\n",
    "    }\n",
    "}"
   ]
  },
  {
   "cell_type": "markdown",
   "metadata": {},
   "source": [
    "# C) \n",
    " The MultipleGroups class (not shown) represents a collection of NumberGroup objects and isa NumberGroup. The MultipleGroups class stores the number groups in the instance variable groupList (shown below), which is initialized in the constructor.\n",
    "\n",
    "private List<NumberGroup> groupList;\n",
    "\n",
    "Write the MultipleGroups method contains. The method takes an integer and returns true if and only if the integer is contained in one or more of the number groups in groupList.\n",
    "\n",
    "For example, suppose multiple1 has been declared as an instance of MultipleGroups and consists of the three ranges created by the calls new Range(5, 8), new Range(10, 12), and new Range(1, 6). The following table shows the results of several calls to contains."
   ]
  },
  {
   "cell_type": "markdown",
   "metadata": {},
   "source": [
    "I slightly did this already in part B on accident but I will redo: "
   ]
  },
  {
   "cell_type": "code",
   "execution_count": null,
   "metadata": {
    "vscode": {
     "languageId": "java"
    }
   },
   "outputs": [],
   "source": [
    "public boolean contains (int number) {\n",
    "    for (NumberGroup group : groupList)\n",
    "    if (group.contains(number)) {\n",
    "        return true;\n",
    "    }\n",
    "    return false;\n",
    "}"
   ]
  },
  {
   "cell_type": "markdown",
   "metadata": {},
   "source": [
    "Question: my original method for contains already contains the boolean return (true or false). Do I need the return statements a second time in part C? "
   ]
  },
  {
   "cell_type": "markdown",
   "metadata": {},
   "source": [
    "# Reflect\n",
    "\n",
    "### Part A: Navigating the NumberGroup Interface\n",
    "\n",
    "Creating the NumberGroup interface was easy enough.  Once I wrapped my head around what the questopn was actually asking , designing the contains method afterwards also felt relatively straightforward. Interface is just the groudwork.\n",
    "\n",
    "### Part B: The Range Class \n",
    "\n",
    "Implementing the Range class was a bit more challenging. When ensuring that the range includes all integers within the specified bounds,  I got the constructor and instance variables sorted out. Additionally I wrote the contains method here but I do not know if I should have. \n",
    "\n",
    "### Part C: Tackling the contains Method for MultipleGroups\n",
    "\n",
    "Writing the contains method for MultipleGroups was easy as well. This was just the implementation of an enhanced for loop, and the method I wrote previously. Additionally this line is important to understand (within the for ) : \n",
    "- for (NumberGroup group : groupList)\n",
    "\n",
    "Overall, this FRQ went pretty well. "
   ]
  }
 ],
 "metadata": {
  "language_info": {
   "name": "python"
  }
 },
 "nbformat": 4,
 "nbformat_minor": 2
}
