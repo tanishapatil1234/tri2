{
 "cells": [
  {
   "cell_type": "markdown",
   "metadata": {},
   "source": [
    "---\n",
    "comments: true\n",
    "layout: post\n",
    "title: Workshop 2\n",
    "description: Reflection \n",
    "type: tangibles\n",
    "courses: { compsci: {week: 5} }\n",
    "authors: Tanisha Patil\n",
    "unit: 2\n",
    "---"
   ]
  },
  {
   "cell_type": "markdown",
   "metadata": {},
   "source": [
    "## Question 1 - Pojos and Access Control:\n",
    "\n",
    "Situation: The school librarian wants to create a program that stores all of the books within the library in a database and is used to manage their inventory of books available to the students. You decided to put your amazing code skills to work and help out the librarian!\n",
    "\n",
    "a. Describe the key differences between the private and public access controllers and how it affects a POJO\n",
    "\n",
    "b. Identify a scenario when you would use the private vs. public access controllers that isn’t the one given in the scenario above\n",
    "\n",
    "c. Create a Book class that represents the following attributes about a book: title, author, date published, person holding the book and make sure that the objects are using a POJO, the proper getters and setters and are secure from any other modifications that the program makes later to the objects"
   ]
  },
  {
   "cell_type": "markdown",
   "metadata": {},
   "source": [
    "a. The difference between priv and public access controllers is that publich has more scope and accessibility. Priv restricts the scope to within the class itself. Public can be accessed in classses outside the class itself. Priv objects can only be access by the class itself.\n",
    "\n",
    "b. I would use priv when dealing with sensitive information. For example, in a banking app, the account itself would be an instance of a private class which would prevent people from doing unauthorized deposits. \n",
    "\n",
    "c. see code cell below\n"
   ]
  },
  {
   "cell_type": "code",
   "execution_count": 3,
   "metadata": {
    "vscode": {
     "languageId": "java"
    }
   },
   "outputs": [
    {
     "name": "stdout",
     "output_type": "stream",
     "text": [
      "Title\n",
      "Tanisha Patil\n"
     ]
    }
   ],
   "source": [
    "public class Book {\n",
    "    private String title;\n",
    "    private String author;\n",
    "    private String datePublished;\n",
    "    private String personHolding;\n",
    " \n",
    "    public Book(String title, String author, String datePublished) {\n",
    "        this.title = title;\n",
    "        this.author = author;\n",
    "        this.datePublished = datePublished;\n",
    "        this.personHolding = null;\n",
    "}\n",
    " // title getter setter \n",
    "    public String getTitle() {\n",
    "        return title;\n",
    "    }\n",
    "\n",
    "    public void setTitle(String title) {\n",
    "        this.title = title;\n",
    "    }\n",
    "\n",
    "    // author getter setter\n",
    "    public String getAuthor() {\n",
    "        return author;\n",
    "    }\n",
    "\n",
    "\n",
    "    public void setAuthor(String author) {\n",
    "        this.author = author;\n",
    "    }\n",
    "\n",
    "    // datePublished getter setter\n",
    "    public String getDatePublished() {\n",
    "        return datePublished;\n",
    "    }\n",
    "\n",
    "    public void setDatePublished(String datePublished) {\n",
    "        this.datePublished = datePublished;\n",
    "    }\n",
    "\n",
    "    public String getPersonHolding() {\n",
    "        return personHolding;\n",
    "    }\n",
    "\n",
    "    // setter personHolding\n",
    "    public void setPersonHolding(String personHolding) {\n",
    "        this.personHolding = personHolding;\n",
    "    }\n",
    "}\n",
    "\n",
    "Book testBook = new Book(\"Title\", \"Tanisha Patil\", \"March 4, 2022\");\n",
    "System.out.println(testBook.getTitle()) ;\n",
    "System.out.println(testBook.getAuthor()) ;"
   ]
  },
  {
   "cell_type": "markdown",
   "metadata": {},
   "source": [
    "## Question 2 - Writing Classes:\n",
    "\n",
    "(a) Describe the different features needed to create a class and what their purpose is.\n",
    "\n",
    "- Class Name:  Used to create instances. Start with a capital letter. Ex. public class Book\n",
    "\n",
    "- Attributes : represent properties of object. Ex. datePublished\n",
    "\n",
    "- Constructor: function sed to initialize new objects. \n",
    "\n",
    "- Methods: Functions for accessing for example getters and setters \n",
    "\n",
    "(b) Code:\n",
    "\n",
    "Create a Java class BankAccount to represent a simple bank account. This class should have the following attributes:\n",
    "\n",
    "- accountHolder (String): The name of the account holder. balance (double): The current balance in the account. Implement the following mutator (setter) methods for the BankAccount class:\n",
    "- setAccountHolder(String name): Sets the name of the account holder.\n",
    "- deposit(double amount): Deposits a given amount into the account.\n",
    "- withdraw(double amount): Withdraws a given amount from the account, but only if the withdrawal amount is less than or equal to the current balance. Ensure that the balance is never negative"
   ]
  },
  {
   "cell_type": "code",
   "execution_count": 6,
   "metadata": {
    "vscode": {
     "languageId": "java"
    }
   },
   "outputs": [
    {
     "name": "stdout",
     "output_type": "stream",
     "text": [
      "After Deposit: 700.0\n",
      "After withdrawal: 100.0\n"
     ]
    }
   ],
   "source": [
    "public class BankAccount {\n",
    "    private String accountHolder;\n",
    "    private double balance;\n",
    "\n",
    "    public BankAccount(String accountHolder, double balance) {\n",
    "        this.accountHolder = accountHolder;\n",
    "        this.balance = balance;\n",
    "    }\n",
    "\n",
    "    // getters\n",
    "    public String getAccountHolder() {\n",
    "        return accountHolder;\n",
    "    }\n",
    "\n",
    "    public double getBalance() {\n",
    "        return balance;\n",
    "    }\n",
    "\n",
    "    // setters\n",
    "    public void setAccountHolder(String accountHolder) {\n",
    "        this.accountHolder = accountHolder;\n",
    "    }\n",
    "\n",
    "    // deposite method\n",
    "    public void deposit(double deposit) {\n",
    "        if (deposit > 0) {\n",
    "            balance += deposit;\n",
    "        }\n",
    "    }\n",
    "\n",
    "    // withdraw method\n",
    "    public void withdraw(double withdrawal) {\n",
    "        if (withdrawal > 0 && withdrawal <= balance) {\n",
    "            balance -= withdrawal;\n",
    "        }\n",
    "    }\n",
    "}\n",
    "\n",
    "\n",
    "// Testing\n",
    "BankAccount myAccount = new BankAccount(\"Tanisha \", 500);\n",
    "myAccount.deposit(200);\n",
    "System.out.println(\"After Deposit: \" + myAccount.getBalance());\n",
    "\n",
    "myAccount.withdraw(600);\n",
    "System.out.println(\"After withdrawal: \" + myAccount.getBalance());"
   ]
  },
  {
   "cell_type": "markdown",
   "metadata": {},
   "source": [
    "## Question 3 - Instantiation of a Class\n",
    "(a) Explain how a constructor works, including when it runs and what generally is done within a constructor\n",
    "\n",
    "(b) Create an example of an overloaded constructor within a class. You must use at least three variables. Include the correct initialization of variables and correct headers for the constructor. Then, run the constructor at least twice with different variables and demonstrate that these two objects called different constructors.\n",
    "\n",
    "\n",
    "\n",
    "(a) \n",
    "\n",
    "A constructor in Java is a  type of method that is called when an instance of a class is created. Its main purpose is to initialize the newly created object. A constructor runs automatically using the new keyword.\n",
    "\n",
    "(b) see code below"
   ]
  },
  {
   "cell_type": "code",
   "execution_count": 10,
   "metadata": {
    "vscode": {
     "languageId": "java"
    }
   },
   "outputs": [
    {
     "name": "stdout",
     "output_type": "stream",
     "text": [
      "Constructor 1 called.\n",
      "Constructor 1 called.\n",
      "Constructor 2 called.\n",
      "Person 1: Name - Alice, Age - 30, Gender - Female\n",
      "Person 2: Name - Bob, Age - 25, Gender - Unknown\n"
     ]
    }
   ],
   "source": [
    "public class Person {\n",
    "    private String name;\n",
    "    private int age;\n",
    "    private String gender;\n",
    "\n",
    "    \n",
    "    public Person(String name, int age, String gender) {\n",
    "        this.name = name;\n",
    "        this.age = age;\n",
    "        this.gender = gender;\n",
    "        System.out.println(\"Constructor 1 called.\");\n",
    "    }\n",
    "\n",
    "  \n",
    "    public Person(String name, int age) {\n",
    "        this(name, age, \"Unknown\"); \n",
    "        System.out.println(\"Constructor 2 called.\");\n",
    "    }\n",
    "\n",
    "    // Getter methods\n",
    "    public String getName() {\n",
    "        return name;\n",
    "    }\n",
    "\n",
    "    public int getAge() {\n",
    "        return age;\n",
    "    }\n",
    "\n",
    "    public String getGender() {\n",
    "        return gender;\n",
    "    }\n",
    "\n",
    "}\n",
    "\n",
    "Person person1 = new Person(\"Alice\", 30, \"Female\");\n",
    "Person person2 = new Person(\"Bob\", 25);\n",
    "\n",
    "        System.out.println(\"Person 1: Name - \" + person1.getName() + \", Age - \" + person1.getAge() + \", Gender - \" + person1.getGender());\n",
    "        System.out.println(\"Person 2: Name - \" + person2.getName() + \", Age - \" + person2.getAge() + \", Gender - \" + person2.getGender());"
   ]
  },
  {
   "cell_type": "markdown",
   "metadata": {},
   "source": [
    "## Question 4 - Wrapper Classes:\n",
    "\n",
    "(a) Provide a brief summary of what a wrapper class is and provide a small code block showing a basic example of a wrapper class.\n",
    "\n",
    "\n",
    "(b) Create a Java wrapper class called Temperature to represent temperatures in Celsius. Your Temperature class should have the following features:\n",
    "\n",
    "Fields:\n",
    "\n",
    "A private double field to store the temperature value in Celsius.\n",
    "\n",
    "Constructor:\n",
    "\n",
    "A constructor that takes a double value representing the temperature in Celsius and initializes the field.\n",
    "\n",
    "Methods:\n",
    "\n",
    "getTemperature(): A method that returns the temperature value in Celsius. setTemperature(double value): A method that sets a new temperature value in Celsius. toFahrenheit(): A method that converts the temperature from Celsius to Fahrenheit and returns the result as a double value.\n",
    "\n",
    "\n",
    "(a):  Wrapper classes convert primitive types to objects. I will demonstrate this in the code below. \n",
    "\n",
    "(b) see code below\n"
   ]
  },
  {
   "cell_type": "code",
   "execution_count": 12,
   "metadata": {
    "vscode": {
     "languageId": "java"
    }
   },
   "outputs": [
    {
     "name": "stdout",
     "output_type": "stream",
     "text": [
      "Initial value: 10\n",
      "Updated value: 20\n"
     ]
    }
   ],
   "source": [
    "// a \n",
    "public class IntegerWrapper {\n",
    "    private int value;\n",
    "\n",
    "    public IntegerWrapper(int value) {\n",
    "        this.value = value;\n",
    "    }\n",
    "\n",
    "    public int getValue() {\n",
    "        return value;\n",
    "    }\n",
    "\n",
    "    public void setValue(int value) {\n",
    "        this.value = value;\n",
    "    }\n",
    "\n",
    "\n",
    "}\n",
    "\n",
    "IntegerWrapper wrapper = new IntegerWrapper(10);\n",
    "\n",
    "System.out.println(\"Initial value: \" + wrapper.getValue());\n",
    "wrapper.setValue(20);\n",
    "System.out.println(\"Updated value: \" + wrapper.getValue());"
   ]
  },
  {
   "cell_type": "code",
   "execution_count": 16,
   "metadata": {
    "vscode": {
     "languageId": "java"
    }
   },
   "outputs": [
    {
     "name": "stdout",
     "output_type": "stream",
     "text": [
      "Temperature - Celsius: 2485.0\n",
      "Temperature - Fahrenheit: 4505.0\n"
     ]
    }
   ],
   "source": [
    "public class Temperature {\n",
    "    private double celsius;\n",
    "\n",
    "    public Temperature(double celsius) {\n",
    "        this.celsius = celsius;\n",
    "    }\n",
    "\n",
    "    public double getTemperature() {\n",
    "        return celsius;\n",
    "    }\n",
    "\n",
    "    public void setTemperature(double celsius) {\n",
    "        this.celsius = celsius;\n",
    "    }\n",
    "\n",
    "    public double toFahrenheit() {\n",
    "        return (celsius * 9 / 5) + 32;\n",
    "    }\n",
    "}\n",
    "\n",
    "Temperature temp = new Temperature(2485.0);\n",
    "System.out.println(\"Temperature - Celsius: \" + temp.getTemperature());\n",
    "System.out.println(\"Temperature - Fahrenheit: \" + temp.toFahrenheit());\n",
    "\n",
    "temp.setTemperature(4007.0);"
   ]
  },
  {
   "cell_type": "markdown",
   "metadata": {},
   "source": [
    "## Question 5 - Inheritence:\n",
    "Situation: You are developing a program to manage a zoo, where various types of animals are kept in different enclosures. To streamline your code, you decide to use inheritance to model the relationships between different types of animals and their behaviors.\n",
    "\n",
    "(a) Explain the concept of inheritance in Java. Provide an example scenario where inheritance is useful.\n",
    "\n",
    "Inheritance in OOP allows a new class - subclass- to inherit attributes and behaviors from an existing class -parent class. We can have a parent class Vehicle which has common attributes and methods shared by all vehicles. Then, we can create subclasses such as Car, Bicycle, and Motorcycle which inherit from the Vehicle class. Each subclass can still have its own unique properties.\n",
    "\n",
    "(b) You need to implement a Java class hierarchy to represent different types of animals in the zoo. Create a superclass Animal with basic attributes and methods common to all animals, and at least three subclasses representing specific types of animals with additional attributes and methods. Include comments to explain your code, specifically how inheritance is used.\n"
   ]
  },
  {
   "cell_type": "code",
   "execution_count": null,
   "metadata": {
    "vscode": {
     "languageId": "java"
    }
   },
   "outputs": [],
   "source": [
    "// parent Animal \n",
    "class Animal {\n",
    "    protected String name;\n",
    "    protected int age;\n",
    "\n",
    "    // constructor\n",
    "    public Animal(String name, int age) {\n",
    "        this.name = name;\n",
    "        this.age = age;\n",
    "    }\n",
    "\n",
    "    //  method display basic information about the animal\n",
    "    public void displayInfo() {\n",
    "        System.out.println(\"Name: \" + name);\n",
    "        System.out.println(\"Age: \" + age);\n",
    "    }\n",
    "}\n",
    "\n",
    "// child representing animal type Lion\n",
    "class Lion extends Animal {\n",
    "    private String roarSound;\n",
    "\n",
    "\n",
    "    public Lion(String name, int age, String roarSound) {\n",
    "        super(name, age);\n",
    "        this.roarSound = roarSound;\n",
    "    }\n",
    "\n",
    "    public void displayLionInfo() {\n",
    "        System.out.println(\"Roar Sound: \" + roarSound);\n",
    "    }\n",
    "  // only lion has this method\n",
    "    public void roar() {\n",
    "        System.out.println(name + \" roars: \" + roarSound);\n",
    "    }\n",
    "}\n",
    "\n",
    "// child representing animal type Penguin\n",
    "class Penguin extends Animal {\n",
    "    private boolean canSwim;\n",
    "\n",
    "    public Penguin(String name, int age, boolean canSwim) {\n",
    "        super(name, age);\n",
    "        this.canSwim = canSwim;\n",
    "    }\n",
    "\n",
    "    public void displayPenguinInfo() {\n",
    "        System.out.println(\"Can Swim: \" + canSwim);\n",
    "    }\n",
    "\n",
    "    // only penguin has this method \n",
    "    public void swim() {\n",
    "        if (canSwim)\n",
    "            System.out.println(name + \" is swimming.\");\n",
    "        else\n",
    "            System.out.println(name + \" cannot swim.\");\n",
    "    }\n",
    "}\n",
    "\n",
    "// // child representing animal type Elephant\n",
    "class Elephant extends Animal {\n",
    "    private int trunkLength;\n",
    "\n",
    "    public Elephant(String name, int age, int trunkLength) {\n",
    "        super(name, age);\n",
    "        this.trunkLength = trunkLength;\n",
    "    }\n",
    "\n",
    "    public void displayElephantInfo() {\n",
    "        System.out.println(\"Trunk Length: \" + trunkLength + \" meters\");\n",
    "    }\n",
    "\n",
    "// only elephant can do this \n",
    "    public void trumpet() {\n",
    "        System.out.println(name + \" trumpets loudly!\");\n",
    "    }\n",
    "}\n"
   ]
  }
 ],
 "metadata": {
  "kernelspec": {
   "display_name": "Java",
   "language": "java",
   "name": "java"
  },
  "language_info": {
   "codemirror_mode": "java",
   "file_extension": ".jshell",
   "mimetype": "text/x-java-source",
   "name": "Java",
   "pygments_lexer": "java",
   "version": "20.0.2+9-78"
  }
 },
 "nbformat": 4,
 "nbformat_minor": 2
}
