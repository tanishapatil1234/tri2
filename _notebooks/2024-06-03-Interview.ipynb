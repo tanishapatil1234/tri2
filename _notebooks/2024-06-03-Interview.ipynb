{
 "cells": [
  {
   "cell_type": "markdown",
   "metadata": {},
   "source": [
    "---\n",
    "comments: true\n",
    "layout: post\n",
    "title: Interview\n",
    "description: Interview Overview\n",
    "type: tangibles\n",
    "courses: { compsci: {week: 5} }\n",
    "authors: Tanisha Patil\n",
    "unit: 2\n",
    "---"
   ]
  },
  {
   "cell_type": "markdown",
   "metadata": {},
   "source": [
    "# Five Highlight Projects"
   ]
  },
  {
   "cell_type": "markdown",
   "metadata": {},
   "source": [
    "## AP Score Predictor ~ an analysis on key indicators\n",
    "- Demonstrated my ability to create unique systems that are very applicable\n",
    "- Students will find this interesting and motivating\n",
    "- Performs an analysis on key indicators such as collaboration and AGILE skills, which we value in the computer science field."
   ]
  },
  {
   "cell_type": "markdown",
   "metadata": {},
   "source": [
    "## Pocket Therapist ~ full stack development and data management \n",
    "- ML in frontend, and quotes database in backend . Both which I created. \n",
    "- I experienced the full frontend to backend pipeline. I used rapid API and chatgpt for quote generation.\n",
    "- I developed the model on a kaggle dataset\n",
    "- Quotes were then called to frontend to match output of emotion recognizer -> I wrote the requests and created testing files\n",
    "- I also created the endpoints on the backend "
   ]
  },
  {
   "cell_type": "markdown",
   "metadata": {},
   "source": [
    "## ML Fitness Lesson ~ Machine Learning \n",
    "- Created a simple introduction to machine learning blog \n",
    "- Blog is a topic of interest to teens, strategically interests highschoolers\n",
    "- Project aims to show the applicability of ML to various of interesting fields\n",
    "- Step by step of creating a model. Very thorough, from data preprocessing to validation steps. "
   ]
  },
  {
   "cell_type": "markdown",
   "metadata": {},
   "source": [
    "## Age/Gender Predictor and Landmark Detection ~ Emerging and visual technologies\n",
    "- Visual ML are always a hit at n@tm! \n",
    "- Developed in JS , a language that I try to practice as often as possible\n",
    "- Deployed demo\n",
    "- Shows skills in emerging visual technologies, facial landmark detection"
   ]
  },
  {
   "cell_type": "markdown",
   "metadata": {},
   "source": [
    "## KASM User Management System\n",
    "- Uses flask, I started from scratch for this one\n",
    "- Many features including protected passwords, session variables\n",
    "- Different roles and accessibility for admin and users\n",
    "- Shows advanced understanding and ability to work with data"
   ]
  },
  {
   "cell_type": "markdown",
   "metadata": {},
   "source": [
    "# My Skills Beyond Coding "
   ]
  },
  {
   "cell_type": "markdown",
   "metadata": {},
   "source": [
    "## Leadership\n",
    "I have been vice president of Girls in Computer Science and now I am president. I have had to display leadership skills when conducting workshops, when managing social media, and when delegating roles. This leadership requires communication, collaboration, and organization. All of these are qualities which I display which is why last year Girls in Computer Science was able to accomplish incredibly things : \n",
    "\n",
    "- two panels \n",
    "- three workshops \n",
    "- one international app competition \n",
    "- one hackaton \n",
    "- worked to build digital literacy ciriculum with PUSD Common Sense Tech Department\n"
   ]
  },
  {
   "cell_type": "markdown",
   "metadata": {},
   "source": [
    "## Accountability\n",
    "I have never been a 'slacker'. Ever since I have been in this class, while it was hard at first I have given my 110%. At the begining I just wanted to prove to myself that I could do it but now I have really become passionate about what I do. For this reason I have accountability in every project and always do my best to communicate when things are behind. "
   ]
  },
  {
   "cell_type": "markdown",
   "metadata": {},
   "source": [
    "## Creative Learner \n",
    "Being a begininer when I was first introduced to this class was a blessing in disguise. I was able to meet and learn from so many intelligent and talented people. A few people that come to mind are Drew, Safin, Rachit, and Vidhi. I will always learn from those around me and take in their good qualities. I have much to learn but I am eager to do so. "
   ]
  },
  {
   "cell_type": "markdown",
   "metadata": {},
   "source": [
    "# Great Experiences \n",
    "\n",
    "[Link to internships](https://tanishapatil1234.github.io/resume/experience.html)\n",
    "\n",
    "Additionally... \n",
    "\n",
    "1. N@TM [Link](https://tanishapatil1234.github.io/tri2/natm)  .... We've come a long way since this day! \n",
    "2. CTE Fair : Being able to see other disciplines of science was rewarding. But having the oppurtunity to work on my presentation skills with people of a large variety of levels of understanding was challneging and a great growth oppurtunity. Being able to explain and sell your work is incredibly important and something I gained and will keep with me as I go into the tech world. "
   ]
  }
 ],
 "metadata": {
  "language_info": {
   "name": "python"
  }
 },
 "nbformat": 4,
 "nbformat_minor": 2
}
